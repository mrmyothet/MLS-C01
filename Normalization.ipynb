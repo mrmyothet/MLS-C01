{
 "cells": [
  {
   "cell_type": "code",
   "execution_count": 1,
   "id": "7614dc0f",
   "metadata": {},
   "outputs": [],
   "source": [
    "# Class to colorize, bold, or underline output\n",
    "class color:\n",
    "  PURPLE = '\\033[95m'\n",
    "  CYAN = '\\033[96m' \n",
    "  DARKCYAN = '\\033[36m'\n",
    "  BLUE = '\\033[94m' \n",
    "  GREEN = '\\033[92m'\n",
    "  YELLOW = '\\033[93m' \n",
    "  RED = '\\033[91m'\n",
    "  BOLD = '\\033[1m'\n",
    "  UNDERLINE = '\\033[4m'\n",
    "  END = '\\033[0m'"
   ]
  },
  {
   "cell_type": "code",
   "execution_count": 2,
   "id": "41b97f4b",
   "metadata": {},
   "outputs": [
    {
     "name": "stdout",
     "output_type": "stream",
     "text": [
      "\u001b[1m\u001b[95m\n",
      "Data before normalization\u001b[0m\n",
      "   Column1  Column2  Column3  Column4\n",
      "0   999999        2        0        9\n",
      "1       35        8        4        7\n",
      "2       27       23        1       99\n"
     ]
    }
   ],
   "source": [
    "import pandas as pd\n",
    "import numpy as np\n",
    "\n",
    "# Normalization: rescales the values into a range of [0,1]\n",
    "data= np.array(\n",
    "  [\n",
    "    [999999, 2, 0, 9], \n",
    "    [35, 8, 4, 7], \n",
    "    [27, 23, 1, 99]\n",
    "  ])\n",
    "\n",
    "data_raw = pd.DataFrame(\n",
    "  {'Column1': data[:, 0], 'Column2': data[:, 1], 'Column3': data[:, 2], 'Column4': data[:, 3]})\n",
    "print(color. BOLD+ color. PURPLE + \"\\nData before normalization\" +color.END)\n",
    "print(data_raw)\n",
    "\n"
   ]
  },
  {
   "cell_type": "code",
   "execution_count": 3,
   "id": "9f480d67",
   "metadata": {},
   "outputs": [
    {
     "name": "stdout",
     "output_type": "stream",
     "text": [
      "\u001b[1m\u001b[95m\n",
      "Data after normalization\u001b[0m\n",
      "    Column1   Column2   Column3   Column4\n",
      "0  1.000000  0.000002  1.000000  0.000009\n",
      "1  0.951171  0.217411  0.951171  0.190234\n",
      "2  0.256736  0.218701  0.256736  0.941364\n"
     ]
    }
   ],
   "source": [
    "from sklearn import preprocessing\n",
    "\n",
    "# normalize the data attributes\n",
    "normalized_data = preprocessing.normalize(data)\n",
    "dataset = pd.DataFrame(\n",
    "  {'Column1': normalized_data[:, 0], \n",
    "   'Column2': normalized_data[:, 1], \n",
    "   'Column3': normalized_data[:, 0], \n",
    "   'Column4': normalized_data[:, 3]})\n",
    "\n",
    "print(color. BOLD+ color. PURPLE + \"\\nData after normalization\" +color.END)\n",
    "print(dataset)"
   ]
  }
 ],
 "metadata": {
  "kernelspec": {
   "display_name": "3.11.13",
   "language": "python",
   "name": "python3"
  },
  "language_info": {
   "codemirror_mode": {
    "name": "ipython",
    "version": 3
   },
   "file_extension": ".py",
   "mimetype": "text/x-python",
   "name": "python",
   "nbconvert_exporter": "python",
   "pygments_lexer": "ipython3",
   "version": "3.11.13"
  }
 },
 "nbformat": 4,
 "nbformat_minor": 5
}
