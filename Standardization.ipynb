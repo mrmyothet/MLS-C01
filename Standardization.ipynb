{
 "cells": [
  {
   "cell_type": "code",
   "execution_count": 4,
   "id": "5881beac",
   "metadata": {},
   "outputs": [],
   "source": [
    "#Class to colorize, bold, or underline output\n",
    "class color:\n",
    "  PURPLE = '\\033[95m'\n",
    "  CYAN = '\\033[96m' \n",
    "  DARKCYAN = '\\033[36m'\n",
    "  BLUE = '\\033[94m' \n",
    "  GREEN = '\\033[92m'\n",
    "  YELLOW = '\\033[93m' \n",
    "  RED = '\\033[91m'\n",
    "  BOLD = '\\033[1m'\n",
    "  UNDERLINE = '\\033[4m'\n",
    "  END = '\\033[0m'"
   ]
  },
  {
   "cell_type": "code",
   "execution_count": 5,
   "id": "e81c0ded",
   "metadata": {},
   "outputs": [
    {
     "name": "stdout",
     "output_type": "stream",
     "text": [
      "\u001b[1m\u001b[95m\n",
      "Data before standardization\u001b[0m\n",
      "   Column1  Column2  Column3  Column4\n",
      "0   999999        2        0      999\n",
      "1       35        1        4        7\n",
      "2       27        3        1       99\n",
      "\u001b[1m\u001b[95m\n",
      "Data after standardization\u001b[0m\n",
      "    Column1   Column2   Column3   Column4\n",
      "0  1.414214  0.000000  0.000000  1.409224\n",
      "1 -0.707098 -1.224745 -1.224745 -0.807399\n",
      "2 -0.707115  1.224745  1.224745 -0.601825\n"
     ]
    }
   ],
   "source": [
    "\n",
    "# Standardization: rescales data to have a mean of 0 and a standard deviation of 1 (unit variance) \n",
    "import pandas as pd\n",
    "import numpy as np\n",
    "from sklearn.preprocessing import StandardScaler\n",
    "\n",
    "data = np.array([\n",
    "    [999999, 2, 0, 999], \n",
    "    [35, 1, 4, 7], \n",
    "    [27, 3, 1, 99]])\n",
    "\n",
    "data_raw = pd.DataFrame({\n",
    "  'Column1': data[:, 0], \n",
    "  'Column2': data[:, 1], \n",
    "  'Column3': data[:, 2], \n",
    "  'Column4': data[:, 3]}) \n",
    "\n",
    "print(color.BOLD+ color. PURPLE + \"\\nData before standardization\" + color.END) \n",
    "print(data_raw)\n",
    "\n",
    "standardized_data= StandardScaler().fit_transform(data_raw)\n",
    "dataset = pd.DataFrame({\n",
    "  'Column1': standardized_data[:, 0], \n",
    "  'Column2': standardized_data[:, 1], \n",
    "  'Column3': standardized_data[:, 1], \n",
    "  'Column4': standardized_data[:, 3]})\n",
    "\n",
    "print(color. BOLD+ color. PURPLE + \"\\nData after standardization\" + color.END)\n",
    "print(dataset)"
   ]
  },
  {
   "cell_type": "code",
   "execution_count": null,
   "id": "4a113cda",
   "metadata": {},
   "outputs": [],
   "source": []
  }
 ],
 "metadata": {
  "kernelspec": {
   "display_name": "3.11.13",
   "language": "python",
   "name": "python3"
  },
  "language_info": {
   "codemirror_mode": {
    "name": "ipython",
    "version": 3
   },
   "file_extension": ".py",
   "mimetype": "text/x-python",
   "name": "python",
   "nbconvert_exporter": "python",
   "pygments_lexer": "ipython3",
   "version": "3.11.13"
  }
 },
 "nbformat": 4,
 "nbformat_minor": 5
}
