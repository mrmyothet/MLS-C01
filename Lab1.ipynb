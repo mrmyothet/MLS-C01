{
 "cells": [
  {
   "cell_type": "code",
   "execution_count": 3,
   "id": "e100d4d8",
   "metadata": {},
   "outputs": [],
   "source": [
    "import numpy as np\n",
    "import pandas as pd\n",
    "import matplotlib.pyplot as plt"
   ]
  },
  {
   "cell_type": "code",
   "execution_count": 4,
   "id": "1c05139a",
   "metadata": {},
   "outputs": [],
   "source": [
    "# !pip install fsspec\n",
    "# !pip install s3fs"
   ]
  },
  {
   "cell_type": "code",
   "execution_count": null,
   "id": "40d7046b",
   "metadata": {},
   "outputs": [],
   "source": [
    "df = pd.read_csv('s3://myothet-s3-bucket-ml-repository/Parking_Tags_Data_2022.000.csv')\n",
    "df.head()"
   ]
  },
  {
   "cell_type": "code",
   "execution_count": null,
   "id": "87ec64db",
   "metadata": {},
   "outputs": [],
   "source": [
    "df.head(11)"
   ]
  },
  {
   "cell_type": "code",
   "execution_count": null,
   "id": "7db8417f",
   "metadata": {},
   "outputs": [],
   "source": [
    "df.drop(columns='location3')"
   ]
  },
  {
   "cell_type": "code",
   "execution_count": null,
   "id": "3ee0c79d",
   "metadata": {},
   "outputs": [],
   "source": [
    "df.to_csv('s3://myothet-s3-bucket-ml-repository/Result.csv')"
   ]
  }
 ],
 "metadata": {
  "kernelspec": {
   "display_name": "3.11.13",
   "language": "python",
   "name": "python3"
  },
  "language_info": {
   "codemirror_mode": {
    "name": "ipython",
    "version": 3
   },
   "file_extension": ".py",
   "mimetype": "text/x-python",
   "name": "python",
   "nbconvert_exporter": "python",
   "pygments_lexer": "ipython3",
   "version": "3.11.13"
  }
 },
 "nbformat": 4,
 "nbformat_minor": 5
}
