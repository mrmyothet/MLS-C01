{
 "cells": [
  {
   "cell_type": "code",
   "execution_count": 1,
   "id": "3111ddb1",
   "metadata": {},
   "outputs": [],
   "source": [
    "import pandas as pd\n",
    "\n",
    "# Categorical Binning Example\n",
    "countries = pd.Series([\n",
    "    'United States',\n",
    "    'Canada',\n",
    "    'Spain',\n",
    "    'Italy',\n",
    "    'Chile',\n",
    "    'Brazil',\n",
    "    'North Korea',\n",
    "    'Vietnam',\n",
    "    'Thailand',\n",
    "    'Malaysia',\n",
    "    'Myanmar',\n",
    "    'Iceland',\n",
    "    'Germany',\n",
    "    'Cuba',\n",
    "    'Mexico'\n",
    "], name = \"Countries\")\n",
    "\n",
    "\n",
    "groups = {\n",
    "    'North America': ('United States', 'Canada', 'Iceland', 'Greenland', 'Mexico'),\n",
    "    'Europe': ('France', 'Germany', 'United Kingdom', 'Belgium', 'Spain', 'Italy', 'Poland'),\n",
    "    'South America': ('Chile', 'Brazil', 'Peru', 'Colombia', 'Ecuador'),\n",
    "    'Asia': ('North Korea', 'Vietnam', 'Thailand', 'Malaysia', 'Myanmar')\n",
    "}\n",
    "\n",
    "from typing import Any\n",
    "\n",
    "def country_group_map(series: pd.Series, groups: dict,\n",
    "                      othervalue: Any=None) -> pd.Series:\n",
    "    # Assign the dictionary pairs\n",
    "    groups = {z: j for j, r in groups.items() for z in r}\n",
    "    return series.map(groups).fillna(othervalue)\n",
    "\n",
    "grouped_countries = country_group_map(countries, groups, othervalue='other')"
   ]
  },
  {
   "cell_type": "code",
   "execution_count": 2,
   "id": "b068bc9f",
   "metadata": {},
   "outputs": [
    {
     "data": {
      "text/html": [
       "<div>\n",
       "<style scoped>\n",
       "    .dataframe tbody tr th:only-of-type {\n",
       "        vertical-align: middle;\n",
       "    }\n",
       "\n",
       "    .dataframe tbody tr th {\n",
       "        vertical-align: top;\n",
       "    }\n",
       "\n",
       "    .dataframe thead th {\n",
       "        text-align: right;\n",
       "    }\n",
       "</style>\n",
       "<table border=\"1\" class=\"dataframe\">\n",
       "  <thead>\n",
       "    <tr style=\"text-align: right;\">\n",
       "      <th></th>\n",
       "      <th>Country</th>\n",
       "      <th>Region</th>\n",
       "    </tr>\n",
       "  </thead>\n",
       "  <tbody>\n",
       "    <tr>\n",
       "      <th>0</th>\n",
       "      <td>United States</td>\n",
       "      <td>North America</td>\n",
       "    </tr>\n",
       "    <tr>\n",
       "      <th>1</th>\n",
       "      <td>Canada</td>\n",
       "      <td>North America</td>\n",
       "    </tr>\n",
       "    <tr>\n",
       "      <th>2</th>\n",
       "      <td>Spain</td>\n",
       "      <td>Europe</td>\n",
       "    </tr>\n",
       "    <tr>\n",
       "      <th>3</th>\n",
       "      <td>Italy</td>\n",
       "      <td>Europe</td>\n",
       "    </tr>\n",
       "    <tr>\n",
       "      <th>4</th>\n",
       "      <td>Chile</td>\n",
       "      <td>South America</td>\n",
       "    </tr>\n",
       "    <tr>\n",
       "      <th>5</th>\n",
       "      <td>Brazil</td>\n",
       "      <td>South America</td>\n",
       "    </tr>\n",
       "    <tr>\n",
       "      <th>6</th>\n",
       "      <td>North Korea</td>\n",
       "      <td>Asia</td>\n",
       "    </tr>\n",
       "    <tr>\n",
       "      <th>7</th>\n",
       "      <td>Vietnam</td>\n",
       "      <td>Asia</td>\n",
       "    </tr>\n",
       "    <tr>\n",
       "      <th>8</th>\n",
       "      <td>Thailand</td>\n",
       "      <td>Asia</td>\n",
       "    </tr>\n",
       "    <tr>\n",
       "      <th>9</th>\n",
       "      <td>Malaysia</td>\n",
       "      <td>Asia</td>\n",
       "    </tr>\n",
       "    <tr>\n",
       "      <th>10</th>\n",
       "      <td>Myanmar</td>\n",
       "      <td>Asia</td>\n",
       "    </tr>\n",
       "    <tr>\n",
       "      <th>11</th>\n",
       "      <td>Iceland</td>\n",
       "      <td>North America</td>\n",
       "    </tr>\n",
       "    <tr>\n",
       "      <th>12</th>\n",
       "      <td>Germany</td>\n",
       "      <td>Europe</td>\n",
       "    </tr>\n",
       "    <tr>\n",
       "      <th>13</th>\n",
       "      <td>Cuba</td>\n",
       "      <td>other</td>\n",
       "    </tr>\n",
       "    <tr>\n",
       "      <th>14</th>\n",
       "      <td>Mexico</td>\n",
       "      <td>North America</td>\n",
       "    </tr>\n",
       "  </tbody>\n",
       "</table>\n",
       "</div>"
      ],
      "text/plain": [
       "          Country         Region\n",
       "0   United States  North America\n",
       "1          Canada  North America\n",
       "2           Spain         Europe\n",
       "3           Italy         Europe\n",
       "4           Chile  South America\n",
       "5          Brazil  South America\n",
       "6     North Korea           Asia\n",
       "7         Vietnam           Asia\n",
       "8        Thailand           Asia\n",
       "9        Malaysia           Asia\n",
       "10        Myanmar           Asia\n",
       "11        Iceland  North America\n",
       "12        Germany         Europe\n",
       "13           Cuba          other\n",
       "14         Mexico  North America"
      ]
     },
     "execution_count": 2,
     "metadata": {},
     "output_type": "execute_result"
    }
   ],
   "source": [
    "df = pd.concat([countries, grouped_countries], axis=1)\n",
    "df.columns = ['Country', 'Region']\n",
    "df"
   ]
  },
  {
   "cell_type": "code",
   "execution_count": 6,
   "id": "201fdb13",
   "metadata": {},
   "outputs": [
    {
     "data": {
      "text/plain": [
       "<Axes: xlabel='Region'>"
      ]
     },
     "execution_count": 6,
     "metadata": {},
     "output_type": "execute_result"
    },
    {
     "data": {
      "image/png": "[encoded data removed]",
      "text/plain": [
       "<Figure size 640x480 with 1 Axes>"
      ]
     },
     "metadata": {},
     "output_type": "display_data"
    }
   ],
   "source": [
    "import matplotlib.pyplot as plt\n",
    "\n",
    "data = df.groupby('Region').count()\n",
    "data.plot.bar(rot=45)"
   ]
  },
  {
   "cell_type": "code",
   "execution_count": null,
   "id": "c5dad9ca",
   "metadata": {},
   "outputs": [],
   "source": []
  }
 ],
 "metadata": {
  "kernelspec": {
   "display_name": "3.11.13",
   "language": "python",
   "name": "python3"
  },
  "language_info": {
   "codemirror_mode": {
    "name": "ipython",
    "version": 3
   },
   "file_extension": ".py",
   "mimetype": "text/x-python",
   "name": "python",
   "nbconvert_exporter": "python",
   "pygments_lexer": "ipython3",
   "version": "3.11.13"
  }
 },
 "nbformat": 4,
 "nbformat_minor": 5
}
