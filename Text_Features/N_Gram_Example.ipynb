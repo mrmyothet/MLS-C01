{
 "cells": [
  {
   "cell_type": "code",
   "execution_count": 1,
   "id": "3c5c4ef7",
   "metadata": {},
   "outputs": [],
   "source": [
    "from sklearn.feature_extraction.text import CountVectorizer"
   ]
  },
  {
   "cell_type": "code",
   "execution_count": 4,
   "id": "12789696",
   "metadata": {},
   "outputs": [
    {
     "name": "stdout",
     "output_type": "stream",
     "text": [
      "['all' 'all around' 'all around the' 'and' 'and bit' 'and bit his'\n",
      " 'around' 'around the' 'around the yard' 'bit' 'bit his' 'bit his owner'\n",
      " 'his' 'his owner' 'owner' 'puppy' 'puppy ran' 'puppy ran all' 'ran'\n",
      " 'ran all' 'ran all around' 'silly' 'silly puppy' 'silly puppy ran' 'the'\n",
      " 'the silly' 'the silly puppy' 'the yard' 'the yard and' 'yard' 'yard and'\n",
      " 'yard and bit']\n"
     ]
    }
   ],
   "source": [
    "ngram_vectorizer = CountVectorizer(analyzer='word', ngram_range=(1, 3))\n",
    "\n",
    "counts = ngram_vectorizer.fit_transform(['The silly puppy ran all around the yard and bit his owner.'])\n",
    "\n",
    "print(ngram_vectorizer.get_feature_names_out())"
   ]
  },
  {
   "cell_type": "code",
   "execution_count": null,
   "id": "53e2a0d3",
   "metadata": {},
   "outputs": [],
   "source": []
  }
 ],
 "metadata": {
  "kernelspec": {
   "display_name": "3.11.13",
   "language": "python",
   "name": "python3"
  },
  "language_info": {
   "codemirror_mode": {
    "name": "ipython",
    "version": 3
   },
   "file_extension": ".py",
   "mimetype": "text/x-python",
   "name": "python",
   "nbconvert_exporter": "python",
   "pygments_lexer": "ipython3",
   "version": "3.11.13"
  }
 },
 "nbformat": 4,
 "nbformat_minor": 5
}
