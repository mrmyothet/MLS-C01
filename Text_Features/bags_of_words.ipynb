{
 "cells": [
  {
   "cell_type": "code",
   "execution_count": 2,
   "id": "428ddfef",
   "metadata": {},
   "outputs": [],
   "source": [
    "from sklearn.feature_extraction.text import CountVectorizer"
   ]
  },
  {
   "cell_type": "code",
   "execution_count": 4,
   "id": "c6bb5c54",
   "metadata": {},
   "outputs": [
    {
     "name": "stdout",
     "output_type": "stream",
     "text": [
      "{'love': 5, 'programming': 7, 'in': 2, 'python': 8, 'is': 3, 'great': 1, 'for': 0, 'machine': 6, 'learning': 4}\n"
     ]
    }
   ],
   "source": [
    "short_text = [\"I love programming in Python. Python is great for machine learning.\"]\n",
    "\n",
    "vectorizer = CountVectorizer()\n",
    "vectorizer.fit(short_text)\n",
    "\n",
    "print(vectorizer.vocabulary_)\n",
    "\n"
   ]
  },
  {
   "cell_type": "code",
   "execution_count": 5,
   "id": "1748cb88",
   "metadata": {},
   "outputs": [
    {
     "name": "stdout",
     "output_type": "stream",
     "text": [
      "(1, 9)\n",
      "<class 'scipy.sparse._csr.csr_matrix'>\n",
      "[[1 1 1 1 1 1 1 1 2]]\n"
     ]
    }
   ],
   "source": [
    "vector = vectorizer.transform(short_text)\n",
    "\n",
    "print(vector.shape)\n",
    "print(type(vector))\n",
    "print(vector.toarray())"
   ]
  },
  {
   "cell_type": "code",
   "execution_count": null,
   "id": "4edc2794",
   "metadata": {},
   "outputs": [],
   "source": []
  }
 ],
 "metadata": {
  "kernelspec": {
   "display_name": "3.11.13",
   "language": "python",
   "name": "python3"
  },
  "language_info": {
   "codemirror_mode": {
    "name": "ipython",
    "version": 3
   },
   "file_extension": ".py",
   "mimetype": "text/x-python",
   "name": "python",
   "nbconvert_exporter": "python",
   "pygments_lexer": "ipython3",
   "version": "3.11.13"
  }
 },
 "nbformat": 4,
 "nbformat_minor": 5
}
